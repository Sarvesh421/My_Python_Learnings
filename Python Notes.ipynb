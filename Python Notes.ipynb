{
 "cells": [
  {
   "cell_type": "markdown",
   "id": "304bab4a-6f09-4e2b-9e4c-d0d6f05d1ee3",
   "metadata": {
    "jp-MarkdownHeadingCollapsed": true
   },
   "source": [
    "# Printing Text"
   ]
  },
  {
   "cell_type": "code",
   "execution_count": null,
   "id": "43a5a6a3-28a6-4335-badf-69c971694b9e",
   "metadata": {},
   "outputs": [],
   "source": [
    "print('Hello World!')"
   ]
  },
  {
   "cell_type": "code",
   "execution_count": null,
   "id": "c6981f5d-9865-4887-8b89-e2f1d9a2af33",
   "metadata": {},
   "outputs": [],
   "source": [
    "print(\"Python\")"
   ]
  },
  {
   "cell_type": "markdown",
   "id": "bc329c8e-a1c1-46ed-98f0-27c5d4b956c3",
   "metadata": {},
   "source": [
    "Variable and Datatypes"
   ]
  },
  {
   "cell_type": "code",
   "execution_count": null,
   "id": "7d34e244-e8a3-4c7b-b965-bddb19917af0",
   "metadata": {},
   "outputs": [],
   "source": [
    "f_name ='Sarvesh'\n",
    "l_name ='R'\n",
    "print(f_name + l_name)"
   ]
  },
  {
   "cell_type": "code",
   "execution_count": null,
   "id": "424626aa-369c-4ffa-8e5e-2e0ee5be2fc3",
   "metadata": {},
   "outputs": [],
   "source": [
    "print(f_name)"
   ]
  },
  {
   "cell_type": "code",
   "execution_count": null,
   "id": "49cc830c-34f0-42fd-a95d-49404e8a4373",
   "metadata": {},
   "outputs": [],
   "source": [
    " print(f_name + \" \" + l_name)"
   ]
  },
  {
   "cell_type": "markdown",
   "id": "5e39154b-2ebc-4d2c-8641-bb00ac5606dc",
   "metadata": {
    "jp-MarkdownHeadingCollapsed": true
   },
   "source": [
    "# String Function"
   ]
  },
  {
   "cell_type": "code",
   "execution_count": null,
   "id": "ef703852-bc26-4364-8049-235433b7ac00",
   "metadata": {},
   "outputs": [],
   "source": [
    "name = \"Narendra Modi\"\n",
    "print(name + \" \"+\"is the Prime Minister of India\")"
   ]
  },
  {
   "cell_type": "code",
   "execution_count": null,
   "id": "ee9e6232-adc2-4f1e-aeb9-27727517ab4e",
   "metadata": {},
   "outputs": [],
   "source": [
    "print(name.lower())"
   ]
  },
  {
   "cell_type": "code",
   "execution_count": null,
   "id": "8403e946-d51b-460b-9b36-5570cecb38b5",
   "metadata": {},
   "outputs": [],
   "source": [
    "print(name.upper())"
   ]
  },
  {
   "cell_type": "code",
   "execution_count": null,
   "id": "d38bd067-c376-470b-9294-1271cbb0558c",
   "metadata": {},
   "outputs": [],
   "source": [
    "print(name.islower()) "
   ]
  },
  {
   "cell_type": "code",
   "execution_count": null,
   "id": "62bafa70-d1e2-4ae8-a579-1db968d776b7",
   "metadata": {},
   "outputs": [],
   "source": [
    "print(name.isupper()) "
   ]
  },
  {
   "cell_type": "markdown",
   "id": "cc94f3ed-4809-4652-8b72-6bceff276719",
   "metadata": {},
   "source": [
    "len()"
   ]
  },
  {
   "cell_type": "code",
   "execution_count": null,
   "id": "9650f965-e0ee-4562-abfd-00a8a8ab51dc",
   "metadata": {},
   "outputs": [],
   "source": [
    "print(len(name))"
   ]
  },
  {
   "cell_type": "code",
   "execution_count": null,
   "id": "47141113-c693-44d1-b7d6-08b9fdc3f92a",
   "metadata": {},
   "outputs": [],
   "source": [
    "print(len(f_name))"
   ]
  },
  {
   "cell_type": "code",
   "execution_count": null,
   "id": "6bf7981d-3744-4af8-b870-1627330e9017",
   "metadata": {},
   "outputs": [],
   "source": [
    "print(name[0])"
   ]
  },
  {
   "cell_type": "code",
   "execution_count": null,
   "id": "47319874-d343-4392-911f-d07853998d62",
   "metadata": {},
   "outputs": [],
   "source": [
    "print(name[0]+name[1]+name[9]+name[3])"
   ]
  },
  {
   "cell_type": "markdown",
   "id": "5b06e61d-c1a7-4452-93ca-5f344aeb850a",
   "metadata": {},
   "source": [
    "index()"
   ]
  },
  {
   "cell_type": "code",
   "execution_count": null,
   "id": "36bcdd98-5213-459b-b3e8-73819244dc60",
   "metadata": {},
   "outputs": [],
   "source": [
    "print(name.index(\"odi\"))"
   ]
  },
  {
   "cell_type": "markdown",
   "id": "ce8d4436-0d03-47f9-9d75-211909d1a6f5",
   "metadata": {},
   "source": [
    "replace()"
   ]
  },
  {
   "cell_type": "code",
   "execution_count": null,
   "id": "6c941366-a269-491a-b3ae-bcb31eea7a53",
   "metadata": {},
   "outputs": [],
   "source": [
    "print(name.replace('Narendra Modi' ,'Rohit Sharma'))"
   ]
  },
  {
   "cell_type": "markdown",
   "id": "35de0865-133c-4d16-844a-83655a4a28cc",
   "metadata": {},
   "source": [
    "Numbers"
   ]
  },
  {
   "cell_type": "code",
   "execution_count": null,
   "id": "c5262c03-c723-4098-abee-13626ac7bb08",
   "metadata": {},
   "outputs": [],
   "source": [
    "print(90+86)"
   ]
  },
  {
   "cell_type": "code",
   "execution_count": null,
   "id": "c4611b6d-dd8a-4f81-b59c-224f73b27e76",
   "metadata": {},
   "outputs": [],
   "source": [
    "print(-65)"
   ]
  },
  {
   "cell_type": "code",
   "execution_count": null,
   "id": "0f61971f-b02b-49c0-a478-167c2d924e99",
   "metadata": {},
   "outputs": [],
   "source": [
    "print(60 / 0.5 + 10)"
   ]
  },
  {
   "cell_type": "markdown",
   "id": "eb58c780-f999-4bde-a768-cbe0b1bda0df",
   "metadata": {},
   "source": [
    "str()"
   ]
  },
  {
   "cell_type": "code",
   "execution_count": null,
   "id": "30b1dc14-3a5c-42fd-acf3-2c0f6ac7c2ce",
   "metadata": {},
   "outputs": [],
   "source": [
    "num = 19\n",
    "print(str(num) +\" \"+'is less than 26')"
   ]
  },
  {
   "cell_type": "markdown",
   "id": "75bf19cb-0923-4398-9561-ec4b6acc1f87",
   "metadata": {
    "jp-MarkdownHeadingCollapsed": true
   },
   "source": [
    "# Absolute Function - abs() Converts the number from negative to positive"
   ]
  },
  {
   "cell_type": "code",
   "execution_count": null,
   "id": "cafc0bd7-49ae-454e-b2eb-0204599bd240",
   "metadata": {},
   "outputs": [],
   "source": [
    "num = -19\n",
    "print(abs(num))"
   ]
  },
  {
   "cell_type": "markdown",
   "id": "a3745038-b9a8-4342-b8ae-433413b741f3",
   "metadata": {},
   "source": [
    "Power Function - pow()"
   ]
  },
  {
   "cell_type": "code",
   "execution_count": null,
   "id": "7823fff8-ee61-43c8-ab1b-718d18b12b99",
   "metadata": {},
   "outputs": [],
   "source": [
    "print(pow(2,3))"
   ]
  },
  {
   "cell_type": "code",
   "execution_count": null,
   "id": "40522f28-7247-4644-8044-dd7cc623ce42",
   "metadata": {},
   "outputs": [],
   "source": [
    "print(pow(2.56,3))"
   ]
  },
  {
   "cell_type": "markdown",
   "id": "9a8ea35d-d48b-4c0f-9467-5a2f8ab78b4d",
   "metadata": {},
   "source": [
    "max() and min()"
   ]
  },
  {
   "cell_type": "code",
   "execution_count": null,
   "id": "b6c50a42-f3d6-4476-90d6-644546f76137",
   "metadata": {},
   "outputs": [],
   "source": [
    "print(max(2,5))"
   ]
  },
  {
   "cell_type": "code",
   "execution_count": null,
   "id": "6dca1641-e6e3-4060-925a-3268ffcc54ac",
   "metadata": {},
   "outputs": [],
   "source": [
    "print(min(2,5))"
   ]
  },
  {
   "cell_type": "markdown",
   "id": "d22f301e-825d-41df-b948-d04e84370b2c",
   "metadata": {},
   "source": [
    "round()"
   ]
  },
  {
   "cell_type": "code",
   "execution_count": null,
   "id": "fc219487-f2b7-440a-b26e-7c89fc364c63",
   "metadata": {},
   "outputs": [],
   "source": [
    "print(round(3.5))"
   ]
  },
  {
   "cell_type": "code",
   "execution_count": null,
   "id": "9d663f77-707b-41c8-bfe2-87770386594f",
   "metadata": {},
   "outputs": [],
   "source": [
    "print(round(3.499))"
   ]
  },
  {
   "cell_type": "code",
   "execution_count": null,
   "id": "a22da70f-737d-4520-94ca-bddb2e0a72dd",
   "metadata": {},
   "outputs": [],
   "source": [
    "print(round(56.899))"
   ]
  },
  {
   "cell_type": "code",
   "execution_count": null,
   "id": "cf670698-8569-4f6a-885f-1bbe3d69cae0",
   "metadata": {},
   "outputs": [],
   "source": [
    "from math import *\n",
    "print(sqrt(125))"
   ]
  },
  {
   "cell_type": "markdown",
   "id": "431d26b8-8c42-4085-9ae2-fdab2568cf60",
   "metadata": {},
   "source": [
    "floor - Round down the value"
   ]
  },
  {
   "cell_type": "code",
   "execution_count": null,
   "id": "ed62b83b-191a-4bb4-9e79-b34431cc7d33",
   "metadata": {},
   "outputs": [],
   "source": [
    "print(floor(8.9))"
   ]
  },
  {
   "cell_type": "markdown",
   "id": "e27854a3-f148-4325-8636-9716f9d50ede",
   "metadata": {},
   "source": [
    "ceil - Round up the value"
   ]
  },
  {
   "cell_type": "code",
   "execution_count": null,
   "id": "9cd525dc-485a-49e8-b97b-f7f2d6b5e112",
   "metadata": {},
   "outputs": [],
   "source": [
    "print(ceil(9.33))"
   ]
  },
  {
   "cell_type": "markdown",
   "id": "ac6f2449-956f-43f2-a64d-adbf10d6a176",
   "metadata": {
    "jp-MarkdownHeadingCollapsed": true
   },
   "source": [
    "# Getting Input"
   ]
  },
  {
   "cell_type": "code",
   "execution_count": null,
   "id": "0234f93e-e9de-423a-9425-17cdffc130cd",
   "metadata": {},
   "outputs": [],
   "source": [
    "j_name = input(\"Enter Name that you like : \")\n",
    "print(j_name)"
   ]
  },
  {
   "cell_type": "code",
   "execution_count": null,
   "id": "9bcd7e31-a50d-4735-a0fa-cea6507afad9",
   "metadata": {},
   "outputs": [],
   "source": [
    "l_name = input(\"Enter your Mom Name :\")\n",
    "print(l_name)"
   ]
  },
  {
   "cell_type": "code",
   "execution_count": null,
   "id": "93b17a36-fb63-493d-a246-f9b7b3cd24e3",
   "metadata": {},
   "outputs": [],
   "source": [
    "print(j_name +\" \" +\"is a daughter-in-law for\"+ \" \" + l_name)"
   ]
  },
  {
   "cell_type": "markdown",
   "id": "78f20586-61d0-4086-b421-f5421d9e8f3d",
   "metadata": {
    "jp-MarkdownHeadingCollapsed": true
   },
   "source": [
    "# Simple Calculator "
   ]
  },
  {
   "cell_type": "code",
   "execution_count": null,
   "id": "ad77d22d-9f5a-454e-a172-ed70992b9991",
   "metadata": {},
   "outputs": [],
   "source": [
    "num1 = input(\"Enter first number : \")\n",
    "num2 = input(\"Enter Second number :\")\n",
    "print(\"Addition :\" , float(num1) + float(num2))\n",
    "print(\"Subtraction :\" , float(num1) - float(num2))\n",
    "print(\"Multiplication :\" , float(num1) *  float(num2))"
   ]
  },
  {
   "cell_type": "markdown",
   "id": "6ac52b14-fafd-4299-b26f-a4d7553a2b5d",
   "metadata": {
    "jp-MarkdownHeadingCollapsed": true
   },
   "source": [
    "# List"
   ]
  },
  {
   "cell_type": "code",
   "execution_count": null,
   "id": "e28d7064-8d1e-46c1-8a10-d774bf5d89af",
   "metadata": {},
   "outputs": [],
   "source": [
    "name = ['Dhoni','Sachin' ,'Virat','Rohit','Jaiswal']\n",
    "print(name)"
   ]
  },
  {
   "cell_type": "code",
   "execution_count": null,
   "id": "d8220b70-2ecb-4852-aa1f-471f4c246e43",
   "metadata": {},
   "outputs": [],
   "source": [
    "print(name[0])"
   ]
  },
  {
   "cell_type": "code",
   "execution_count": null,
   "id": "6e628de9-3fa8-41e7-8167-69c265f7ed81",
   "metadata": {},
   "outputs": [],
   "source": [
    "print(name[-1])"
   ]
  },
  {
   "cell_type": "code",
   "execution_count": null,
   "id": "d55a5517-f752-48e2-8396-5f9d7a196e79",
   "metadata": {},
   "outputs": [],
   "source": [
    "print(name[0:3])"
   ]
  },
  {
   "cell_type": "code",
   "execution_count": null,
   "id": "08b41748-c874-4935-9469-74b41b569dac",
   "metadata": {},
   "outputs": [],
   "source": [
    "print(name[0:4])"
   ]
  },
  {
   "cell_type": "code",
   "execution_count": null,
   "id": "d1b7a06d-1ca6-403e-b974-8b862477396a",
   "metadata": {},
   "outputs": [],
   "source": [
    "print(name[0:])"
   ]
  },
  {
   "cell_type": "code",
   "execution_count": null,
   "id": "a6dbc3db-48bb-4b66-80b1-261e02b594f4",
   "metadata": {},
   "outputs": [],
   "source": [
    "print(name[1:])"
   ]
  },
  {
   "cell_type": "code",
   "execution_count": null,
   "id": "9018905b-0d13-4026-b293-a42ea7090b2f",
   "metadata": {},
   "outputs": [],
   "source": [
    "print(name[:2])"
   ]
  },
  {
   "cell_type": "code",
   "execution_count": null,
   "id": "18c936f0-d147-4671-9773-9bc6e478672d",
   "metadata": {},
   "outputs": [],
   "source": [
    "print(name[:-1])"
   ]
  },
  {
   "cell_type": "code",
   "execution_count": null,
   "id": "7254d7c8-5b2b-472b-8458-5501e23d42bd",
   "metadata": {},
   "outputs": [],
   "source": [
    "print(name[:-2])"
   ]
  },
  {
   "cell_type": "code",
   "execution_count": null,
   "id": "34a6db77-ae11-4803-8ff3-f102b2822f20",
   "metadata": {},
   "outputs": [],
   "source": [
    "print(name[1:-3])"
   ]
  },
  {
   "cell_type": "markdown",
   "id": "c1bf6e33-2137-440c-a16c-c28e0577eee6",
   "metadata": {
    "jp-MarkdownHeadingCollapsed": true
   },
   "source": [
    "# List Function"
   ]
  },
  {
   "cell_type": "code",
   "execution_count": null,
   "id": "27c29b1f-0b27-4afb-bc38-cad07c26e278",
   "metadata": {},
   "outputs": [],
   "source": [
    "name = ['Dhoni','Sachin' ,'Virat','Rohit','Jaiswal']\n",
    "age = [39 , 50 , 36 , 37 ,23]"
   ]
  },
  {
   "cell_type": "markdown",
   "id": "0f9ae179-7258-4712-8ea2-f78650aa6890",
   "metadata": {},
   "source": [
    "a) extend()"
   ]
  },
  {
   "cell_type": "code",
   "execution_count": null,
   "id": "0c04a4ed-aca8-42bb-82a0-d113bf393624",
   "metadata": {},
   "outputs": [],
   "source": [
    "name.extend(age)"
   ]
  },
  {
   "cell_type": "code",
   "execution_count": null,
   "id": "02a2e85b-6fea-48b7-8613-dc7942604146",
   "metadata": {},
   "outputs": [],
   "source": [
    "print(name)"
   ]
  },
  {
   "cell_type": "markdown",
   "id": "7028a760-54e2-4de2-adee-f203f9951466",
   "metadata": {},
   "source": [
    "b) append "
   ]
  },
  {
   "cell_type": "code",
   "execution_count": null,
   "id": "26af1256-b5a8-4bb7-a79d-8fc2610722fa",
   "metadata": {},
   "outputs": [],
   "source": [
    "name = ['Dhoni','Sachin' ,'Virat','Rohit','Jaiswal']\n",
    "name.append('Raina')"
   ]
  },
  {
   "cell_type": "code",
   "execution_count": null,
   "id": "dc93009f-cbb0-4e57-bf24-69833b44b8df",
   "metadata": {},
   "outputs": [],
   "source": [
    "print(name)"
   ]
  },
  {
   "cell_type": "markdown",
   "id": "51951c0b-b38a-434e-934d-929a695999e9",
   "metadata": {},
   "source": [
    "c)insert()"
   ]
  },
  {
   "cell_type": "code",
   "execution_count": null,
   "id": "13e277e4-eb0c-4f87-a811-5b3bf7bf5e15",
   "metadata": {},
   "outputs": [],
   "source": [
    "name = ['Dhoni','Sachin' ,'Virat','Rohit','Jaiswal']\n",
    "name.insert(1,'Raina')"
   ]
  },
  {
   "cell_type": "code",
   "execution_count": null,
   "id": "6f472a0e-b957-48db-9463-0b3f0907986a",
   "metadata": {},
   "outputs": [],
   "source": [
    "print(name)"
   ]
  },
  {
   "cell_type": "markdown",
   "id": "a274325d-789d-4c0d-a3ef-9e29d684b5f9",
   "metadata": {},
   "source": [
    "d)remove()"
   ]
  },
  {
   "cell_type": "code",
   "execution_count": null,
   "id": "b21ee2e1-b112-4efc-b55e-c357ccb789f3",
   "metadata": {},
   "outputs": [],
   "source": [
    "name = ['Dhoni','Sachin' ,'Virat','Rohit','Jaiswal']\n",
    "name.remove('Rohit')"
   ]
  },
  {
   "cell_type": "code",
   "execution_count": null,
   "id": "2f46ac7a-e183-4cf1-9269-dd9d743acf20",
   "metadata": {},
   "outputs": [],
   "source": [
    "print(name)"
   ]
  },
  {
   "cell_type": "code",
   "execution_count": null,
   "id": "34fe584c-75cb-4a9e-aff0-0af10ebd84fb",
   "metadata": {},
   "outputs": [],
   "source": [
    "name.clear()\n",
    "print(name)"
   ]
  },
  {
   "cell_type": "markdown",
   "id": "6537ef68-f5a4-45b8-8dbb-4f9558b4d20d",
   "metadata": {},
   "source": [
    "e) pop()"
   ]
  },
  {
   "cell_type": "code",
   "execution_count": null,
   "id": "57e85d13-4f09-4aaf-bd31-6edb667fe7f6",
   "metadata": {},
   "outputs": [],
   "source": [
    "name = ['Dhoni','Sachin' ,'Virat','Rohit','Jaiswal']\n",
    "name.pop()\n",
    "print(name)"
   ]
  },
  {
   "cell_type": "code",
   "execution_count": null,
   "id": "e62c6829-85de-43d8-8e3f-615ff0e8699a",
   "metadata": {},
   "outputs": [],
   "source": [
    "name.index('Virat')"
   ]
  },
  {
   "cell_type": "markdown",
   "id": "a054677e-05b9-471c-a869-79fdea84def3",
   "metadata": {},
   "source": [
    "f) count()"
   ]
  },
  {
   "cell_type": "code",
   "execution_count": null,
   "id": "ac84f301-e711-4680-a9c1-c9e50e0c8586",
   "metadata": {},
   "outputs": [],
   "source": [
    "name.count('Rohit')"
   ]
  },
  {
   "cell_type": "markdown",
   "id": "89967d34-4584-448e-8dba-57fac0dbc3af",
   "metadata": {},
   "source": [
    "g) sort()"
   ]
  },
  {
   "cell_type": "code",
   "execution_count": null,
   "id": "2cefd008-0a11-42fc-9ed1-bd47f9d75324",
   "metadata": {},
   "outputs": [],
   "source": [
    " name = ['Dhoni','Sachin' ,'Virat','Rohit','Jaiswal']\n",
    "name.sort()\n",
    "print(name)"
   ]
  },
  {
   "cell_type": "markdown",
   "id": "923ddc90-eb19-4c8e-acfb-01fdb73ff003",
   "metadata": {},
   "source": [
    "h) reverse()"
   ]
  },
  {
   "cell_type": "code",
   "execution_count": null,
   "id": "f03f6afd-75d4-483b-b0be-2e232434f9db",
   "metadata": {},
   "outputs": [],
   "source": [
    "name =['Dhoni', 'Jaiswal', 'Rohit', 'Sachin', 'Virat']\n",
    "name.reverse()\n",
    "print(name)"
   ]
  },
  {
   "cell_type": "markdown",
   "id": "280f2cbd-d2f3-450f-87b4-324e0e38838b",
   "metadata": {},
   "source": [
    "I) copy()"
   ]
  },
  {
   "cell_type": "code",
   "execution_count": null,
   "id": "ec73579c-7b64-47d1-bf52-054b127161cc",
   "metadata": {},
   "outputs": [],
   "source": [
    " name = ['Dhoni','Sachin' ,'Virat','Rohit','Jaiswal']\n",
    "name1=name.copy()\n",
    "print(name1)"
   ]
  },
  {
   "cell_type": "markdown",
   "id": "06f3fdcf-fcad-419f-8f1d-406687607436",
   "metadata": {
    "jp-MarkdownHeadingCollapsed": true
   },
   "source": [
    "# Tuples"
   ]
  },
  {
   "cell_type": "code",
   "execution_count": null,
   "id": "be1241e2-cdb1-4ef5-893a-5a8a82a1b305",
   "metadata": {},
   "outputs": [],
   "source": [
    " name = ('Dhoni','Sachin' ,'Virat','Rohit','Jaiswal')\n",
    "print(name) # Tuple is immutable \n"
   ]
  },
  {
   "cell_type": "markdown",
   "id": "1a9598a9-7466-4e28-97ed-38fdd5970430",
   "metadata": {
    "jp-MarkdownHeadingCollapsed": true
   },
   "source": [
    "# Functions"
   ]
  },
  {
   "cell_type": "code",
   "execution_count": null,
   "id": "a05ced43-881e-4b71-b62a-6027651380e6",
   "metadata": {},
   "outputs": [],
   "source": [
    "def print_name():\n",
    "    print('Dhoni')\n",
    "print_name() #Function call\n"
   ]
  },
  {
   "cell_type": "code",
   "execution_count": null,
   "id": "4ccbf329-4bcc-403c-b984-456033709625",
   "metadata": {},
   "outputs": [],
   "source": [
    "def print_name(name , age):\n",
    "    print('Name :'+' ' + name + \" \"+\". Age :\" + str(age))\n",
    "print_name(\"Dhoni\" , 39) #Function call"
   ]
  },
  {
   "cell_type": "code",
   "execution_count": null,
   "id": "fda2ba31-2a9d-4bf3-97af-663f9ac49d9e",
   "metadata": {},
   "outputs": [],
   "source": [
    "def sum_of_n_numbers(n):\n",
    "    return n*(n+1)/2         #First Attempt\n",
    "print(sum_of_n_numbers(10))"
   ]
  },
  {
   "cell_type": "markdown",
   "id": "a9a0baed-832c-4f64-9976-44848e270771",
   "metadata": {
    "jp-MarkdownHeadingCollapsed": true
   },
   "source": [
    "# Function Return Statement"
   ]
  },
  {
   "cell_type": "code",
   "execution_count": null,
   "id": "4f8d3233-d361-4ea2-a89d-f8e40f9ac88b",
   "metadata": {},
   "outputs": [],
   "source": [
    "def square(num):\n",
    "    return num * num\n",
    "print(square(4))\n",
    "    "
   ]
  },
  {
   "cell_type": "code",
   "execution_count": null,
   "id": "0a5a2b0d-3df9-4992-a90b-cc9b8313420e",
   "metadata": {},
   "outputs": [],
   "source": [
    "def square(num):\n",
    "    return num * num\n",
    "print(square(89))\n",
    "    "
   ]
  },
  {
   "cell_type": "code",
   "execution_count": null,
   "id": "07888412-ed7c-4e4f-a3b0-92ae11de2ad4",
   "metadata": {},
   "outputs": [],
   "source": [
    "def cube(num):\n",
    "    return num * num * num\n",
    "print(cube(3))\n",
    "    "
   ]
  },
  {
   "cell_type": "code",
   "execution_count": null,
   "id": "8d56bbbe-98a5-41ca-981b-37e73f803cf3",
   "metadata": {},
   "outputs": [],
   "source": [
    "def sum_of_square_num(n):\n",
    "    return n*(n + 1)*(2*n + 1) //6\n",
    "print(sum_of_square_num(10))"
   ]
  },
  {
   "cell_type": "markdown",
   "id": "7bec267c-8981-4a0f-ad6f-14fbcc1a8d5d",
   "metadata": {
    "jp-MarkdownHeadingCollapsed": true
   },
   "source": [
    "# If Statement"
   ]
  },
  {
   "cell_type": "code",
   "execution_count": null,
   "id": "0f5c07ec-a160-4332-a311-a8aac2ddac6a",
   "metadata": {},
   "outputs": [],
   "source": [
    "is_batsman = True\n",
    "if is_batsman:\n",
    "    print(\"You are a batsman\")\n",
    "else:\n",
    "    print(\"You are not a batsman\")"
   ]
  },
  {
   "cell_type": "code",
   "execution_count": null,
   "id": "7c2f29b1-1b16-4724-a504-2bdeed7b3e45",
   "metadata": {},
   "outputs": [],
   "source": [
    "is_batsman = False\n",
    "if is_batsman:\n",
    "    print(\"You are a batsman\")\n",
    "else:\n",
    "    print(\"You are not a batsman\")"
   ]
  },
  {
   "cell_type": "code",
   "execution_count": null,
   "id": "3f3be32a-180d-4819-9953-24f699393720",
   "metadata": {},
   "outputs": [],
   "source": [
    "is_batsman = True\n",
    "is_captain = False\n",
    "if is_batsman and is_captain:\n",
    "    print(\"You are a batsman and also a captain\")\n",
    "else:\n",
    "    print(\"You are not a batsman\")"
   ]
  },
  {
   "cell_type": "code",
   "execution_count": null,
   "id": "23190b6e-77a8-4bc6-a273-6c7b781f7523",
   "metadata": {},
   "outputs": [],
   "source": [
    "is_batsman = True\n",
    "is_captain = False\n",
    "if is_batsman and is_captain:\n",
    "    print(\"You are a batsman or also a captain\")\n",
    "elif is_batsman and not(is_captain):\n",
    "    print(\"You are a batsman but not a captain\")\n",
    "else:\n",
    "    print(\"You are not a batsman\")"
   ]
  },
  {
   "cell_type": "code",
   "execution_count": null,
   "id": "a23d86dd-bca6-4344-8558-f280ed1c7778",
   "metadata": {},
   "outputs": [],
   "source": [
    "marks = int(input((\"Enter your Marks :\")))\n",
    "if marks >=  60:\n",
    "    print('Pass')\n",
    "else:\n",
    "    print('Fail')"
   ]
  },
  {
   "cell_type": "code",
   "execution_count": null,
   "id": "ffbc60b6-acfb-4a78-a544-2753d3b0d61b",
   "metadata": {},
   "outputs": [],
   "source": [
    "marks = int(input((\"Enter your Marks :\")))\n",
    "if marks >= 91 and marks < 100:\n",
    "    print('O')\n",
    "elif marks >=81 and marks < 91 :\n",
    "    print('A+')\n",
    "elif marks >=71 and marks < 81 :\n",
    "    print('A')\n",
    "elif marks >=61 and marks < 71 :\n",
    "    print('B+')\n",
    "elif marks >=51 and marks < 61 :\n",
    "    print('B')\n",
    "else:\n",
    "    print('Fail')"
   ]
  },
  {
   "cell_type": "markdown",
   "id": "a38be9b0-e53e-46bf-bec1-15eba9c35ba5",
   "metadata": {
    "jp-MarkdownHeadingCollapsed": true
   },
   "source": [
    "# Dictionaries"
   ]
  },
  {
   "cell_type": "code",
   "execution_count": null,
   "id": "f4c4304c-5689-465f-b1fc-f5c9a3e9a457",
   "metadata": {},
   "outputs": [],
   "source": [
    "threeWordToFull = {\n",
    "    'JAN':'January',\n",
    "    'FEB':'Febuary',\n",
    "    'MAR':'March'\n",
    "}\n",
    "print(threeWordToFull['JAN'])\n",
    "    "
   ]
  },
  {
   "cell_type": "code",
   "execution_count": null,
   "id": "d792a66b-99c4-4b3e-bc6b-48b95225db44",
   "metadata": {},
   "outputs": [],
   "source": [
    "print(threeWordToFull.get('MAR'))"
   ]
  },
  {
   "cell_type": "code",
   "execution_count": null,
   "id": "cdfe7ef3-500d-49fe-b5f7-52301de94dff",
   "metadata": {},
   "outputs": [],
   "source": [
    "print(threeWordToFull.get('SEP'))"
   ]
  },
  {
   "cell_type": "markdown",
   "id": "675eb9d9-ed81-43b3-a4a9-0e74bca39d24",
   "metadata": {
    "jp-MarkdownHeadingCollapsed": true
   },
   "source": [
    "# While Loop"
   ]
  },
  {
   "cell_type": "code",
   "execution_count": 3,
   "id": "c50e6941-af83-4ccd-9434-762f2d82ef91",
   "metadata": {},
   "outputs": [
    {
     "name": "stdout",
     "output_type": "stream",
     "text": [
      "1\n",
      "2\n",
      "3\n",
      "4\n",
      "5\n",
      "6\n",
      "7\n",
      "8\n",
      "9\n",
      "10\n",
      "Done Loop\n"
     ]
    }
   ],
   "source": [
    "i = 1\n",
    "while i <= 10:\n",
    "    print(i)\n",
    "    i = i + 1\n",
    "print('Done Loop')\n",
    "\n",
    "    "
   ]
  },
  {
   "cell_type": "markdown",
   "id": "6d7c9889-8b8b-4bd7-aaaf-a41af62932da",
   "metadata": {
    "jp-MarkdownHeadingCollapsed": true
   },
   "source": [
    "# FOR LOOPS"
   ]
  },
  {
   "cell_type": "code",
   "execution_count": 4,
   "id": "f96dbd2d-b992-42c2-9809-f1d5e321c46e",
   "metadata": {},
   "outputs": [
    {
     "name": "stdout",
     "output_type": "stream",
     "text": [
      "Janani\n",
      "Janani\n",
      "Janani\n",
      "Janani\n",
      "Janani\n",
      "Janani\n",
      "Janani\n",
      "Janani\n",
      "Janani\n",
      "Janani\n"
     ]
    }
   ],
   "source": [
    "for i in range(1,11):\n",
    "    print('Janani')\n",
    "    "
   ]
  },
  {
   "cell_type": "code",
   "execution_count": 6,
   "id": "ffc296f8-3eea-41f5-9377-50f63ecd68d3",
   "metadata": {},
   "outputs": [
    {
     "name": "stdout",
     "output_type": "stream",
     "text": [
      "Dhoni\n",
      "Sachin\n",
      "Virat\n",
      "Rohit\n",
      "Jaiswal\n"
     ]
    }
   ],
   "source": [
    "crick_players = ['Dhoni','Sachin' ,'Virat','Rohit','Jaiswal']\n",
    "for i in range(0,5):\n",
    "    print(crick_players[i])"
   ]
  },
  {
   "cell_type": "code",
   "execution_count": 8,
   "id": "53daa315-672b-4e9e-9056-bec523981ccb",
   "metadata": {},
   "outputs": [
    {
     "name": "stdout",
     "output_type": "stream",
     "text": [
      "Dhoni\n",
      "Sachin\n",
      "Virat\n",
      "Rohit\n",
      "Jaiswal\n"
     ]
    }
   ],
   "source": [
    "crick_players = ['Dhoni','Sachin' ,'Virat','Rohit','Jaiswal']\n",
    "for i in range(len(crick_players)): # using len() function\n",
    "    print(crick_players[i])"
   ]
  },
  {
   "cell_type": "code",
   "execution_count": 9,
   "id": "abf65777-341b-414f-9fc7-0ce6103f4f10",
   "metadata": {},
   "outputs": [
    {
     "name": "stdout",
     "output_type": "stream",
     "text": [
      "J\n",
      "a\n",
      "n\n",
      "a\n",
      "n\n",
      "i\n"
     ]
    }
   ],
   "source": [
    "for i in \"Janani\":\n",
    "    print(i)"
   ]
  },
  {
   "cell_type": "markdown",
   "id": "b91e04a2-a0af-40bd-9175-1577599c26d3",
   "metadata": {
    "jp-MarkdownHeadingCollapsed": true
   },
   "source": [
    "# Expection Handling"
   ]
  },
  {
   "cell_type": "code",
   "execution_count": 12,
   "id": "7a5d27c5-b685-4870-8456-ce50f106111a",
   "metadata": {},
   "outputs": [
    {
     "name": "stdout",
     "output_type": "stream",
     "text": [
      "Dividing by zero\n"
     ]
    }
   ],
   "source": [
    "try:\n",
    "    val = 100/0\n",
    "    num = int(input(\"Enter Number :\"))\n",
    "    print(num)\n",
    "except ZeroDivisionError:\n",
    "    print(\"Dividing by zero\")\n",
    "except ValueError:\n",
    "    print(\"Invalid Input\")"
   ]
  },
  {
   "cell_type": "markdown",
   "id": "6d6f473e-1704-4605-b633-38fe11a30bc5",
   "metadata": {
    "jp-MarkdownHeadingCollapsed": true
   },
   "source": [
    "# Reading from Files"
   ]
  },
  {
   "cell_type": "code",
   "execution_count": 16,
   "id": "d472e060-0ce4-412d-a8d7-550c71449a2a",
   "metadata": {},
   "outputs": [
    {
     "data": {
      "text/plain": [
       "<_io.TextIOWrapper name='example.txt' mode='w' encoding='cp1252'>"
      ]
     },
     "execution_count": 16,
     "metadata": {},
     "output_type": "execute_result"
    }
   ],
   "source": [
    "open(\"example.txt\",\"w\") #write mode"
   ]
  },
  {
   "cell_type": "code",
   "execution_count": 17,
   "id": "4dda5056-21da-4a3e-a50c-6ba3bb20f079",
   "metadata": {},
   "outputs": [
    {
     "data": {
      "text/plain": [
       "<_io.TextIOWrapper name='example.txt' mode='a' encoding='cp1252'>"
      ]
     },
     "execution_count": 17,
     "metadata": {},
     "output_type": "execute_result"
    }
   ],
   "source": [
    "open(\"example.txt\",\"a\") # append mode"
   ]
  },
  {
   "cell_type": "code",
   "execution_count": 17,
   "id": "334e4f90-1f90-44c8-9c06-8d056b21c00e",
   "metadata": {},
   "outputs": [
    {
     "data": {
      "text/plain": [
       "<_io.TextIOWrapper name='example.txt' mode='a' encoding='cp1252'>"
      ]
     },
     "execution_count": 17,
     "metadata": {},
     "output_type": "execute_result"
    }
   ],
   "source": [
    "open(\"example.txt\",\"r+\") # read and write mode"
   ]
  },
  {
   "cell_type": "code",
   "execution_count": 18,
   "id": "5b3c1710-e4a8-46bc-887c-aeab0bedb58e",
   "metadata": {},
   "outputs": [
    {
     "name": "stdout",
     "output_type": "stream",
     "text": [
      "True\n"
     ]
    }
   ],
   "source": [
    "AI = open(\"example.txt\",\"r\") #read mode\n",
    "print(AI.readable())\n",
    "\n",
    "AI.close()"
   ]
  },
  {
   "cell_type": "code",
   "execution_count": 25,
   "id": "d42fb03f-d647-4d3b-8b39-b627e31ee9ea",
   "metadata": {},
   "outputs": [
    {
     "name": "stdout",
     "output_type": "stream",
     "text": [
      "Importance of Artificial Intelligence (AI)\n",
      "Automation and Efficiency\n",
      "Healthcare Advancements\n",
      "Improved Decision-Making\n",
      "Enhanced Cybersecurity\n",
      "Smart Assistants\n",
      "Personalized Experiences\n",
      "Financial Sector Growth\n",
      "Advancements in Autonomous Systems\n",
      "Scientific Research and Innovation\n",
      "Education and E-Learning\n",
      "\n"
     ]
    }
   ],
   "source": [
    "AI = open(\"example.txt\",\"r\") #read mode\n",
    "print(AI.read())\n",
    "AI.close()"
   ]
  },
  {
   "cell_type": "code",
   "execution_count": 26,
   "id": "a769a35a-31aa-4d87-b490-7c64ae019e72",
   "metadata": {},
   "outputs": [
    {
     "name": "stdout",
     "output_type": "stream",
     "text": [
      "Importance of Artificial Intelligence (AI)\n",
      "\n"
     ]
    }
   ],
   "source": [
    "AI = open(\"example.txt\",\"r\") #read mode\n",
    "print(AI.readline())\n",
    "AI.close()"
   ]
  },
  {
   "cell_type": "code",
   "execution_count": 27,
   "id": "fa364b6a-eb3d-44f5-8e33-44c3f1d1dd0c",
   "metadata": {},
   "outputs": [
    {
     "name": "stdout",
     "output_type": "stream",
     "text": [
      "['Importance of Artificial Intelligence (AI)\\n', 'Automation and Efficiency\\n', 'Healthcare Advancements\\n', 'Improved Decision-Making\\n', 'Enhanced Cybersecurity\\n', 'Smart Assistants\\n', 'Personalized Experiences\\n', 'Financial Sector Growth\\n', 'Advancements in Autonomous Systems\\n', 'Scientific Research and Innovation\\n', 'Education and E-Learning\\n']\n"
     ]
    }
   ],
   "source": [
    "AI = open(\"example.txt\",\"r\") #read mode\n",
    "print(AI.readlines())\n",
    "AI.close()"
   ]
  },
  {
   "cell_type": "code",
   "execution_count": 28,
   "id": "ff7be08f-82b3-4305-884f-cd55c3f03b2e",
   "metadata": {},
   "outputs": [
    {
     "name": "stdout",
     "output_type": "stream",
     "text": [
      "Enhanced Cybersecurity\n",
      "\n"
     ]
    }
   ],
   "source": [
    "AI = open(\"example.txt\",\"r\") #read mode\n",
    "print(AI.readlines()[4])\n",
    "AI.close()"
   ]
  },
  {
   "cell_type": "markdown",
   "id": "ee7cc6e5-e3f7-4fba-9e65-1e9165905e44",
   "metadata": {
    "jp-MarkdownHeadingCollapsed": true
   },
   "source": [
    "# Writing a Files"
   ]
  },
  {
   "cell_type": "code",
   "execution_count": 30,
   "id": "939adc40-d9c7-403e-a19f-afec8ab7af46",
   "metadata": {},
   "outputs": [],
   "source": [
    "AI = open(\"example.txt\",\"a\") #append   mode\n",
    "AI.write(\"\\nMachine learning is good for health\")\n",
    "AI.write(\"\\nMachine learning is good for health\")\n",
    "AI.close()"
   ]
  },
  {
   "cell_type": "code",
   "execution_count": 31,
   "id": "26084193-8eb2-4e54-9307-ca802bbf9d1d",
   "metadata": {},
   "outputs": [],
   "source": [
    "AI = open(\"example.txt\",\"w\") #write  mode\n",
    "AI.write(\"\\nMachine learning is good for health\")\n",
    "AI.write(\"\\nMachine learning is good for health\")\n",
    "AI.close()"
   ]
  },
  {
   "cell_type": "code",
   "execution_count": 34,
   "id": "c3669bfe-58db-4333-b5ac-ad98aa13df04",
   "metadata": {},
   "outputs": [],
   "source": [
    "AI = open(\" AI Advantages\" , \"w\")\n",
    "AI.write(\"Automation of Tasks\")\n",
    "AI.close()"
   ]
  },
  {
   "cell_type": "markdown",
   "id": "006322a2-5789-4595-a20e-55fdbba7f608",
   "metadata": {},
   "source": [
    "# Classes and Objects"
   ]
  },
  {
   "cell_type": "code",
   "execution_count": 42,
   "id": "79818474-a86e-4767-9b3e-89ec8307c2a2",
   "metadata": {},
   "outputs": [],
   "source": [
    "Players = open(\"batsman.py\",\"a\")"
   ]
  },
  {
   "cell_type": "code",
   "execution_count": 54,
   "id": "eff2fd49-ceec-4afb-a5cd-d9916f15dcde",
   "metadata": {},
   "outputs": [
    {
     "name": "stdout",
     "output_type": "stream",
     "text": [
      "CSK\n",
      "36\n"
     ]
    }
   ],
   "source": [
    "from batsman import Batsman\n",
    "dhoni = Batsman(\"Dhoni\" , 39 , \"CSK\")\n",
    "kohli = Batsman(\"Virat\" ,36,\"RCB\")\n",
    "print(dhoni.ipl_team)\n",
    "print(kohli.age)"
   ]
  },
  {
   "cell_type": "markdown",
   "id": "254c4afe-984a-4ae6-9cdf-4551715e66d9",
   "metadata": {},
   "source": [
    "# Inheritance"
   ]
  },
  {
   "cell_type": "code",
   "execution_count": 61,
   "id": "30dd64c9-d6d6-4bc4-bd75-e7395ac2168b",
   "metadata": {},
   "outputs": [
    {
     "name": "stdout",
     "output_type": "stream",
     "text": [
      "Name\n",
      "Age\n",
      "Name\n",
      "Age\n",
      "Runs Scored\n"
     ]
    }
   ],
   "source": [
    "class Human:\n",
    "    def name(self):\n",
    "        print('Name')\n",
    "    def age(self):\n",
    "        print('Age')\n",
    "human = Human()\n",
    "human.name()\n",
    "human.age()\n",
    "class Batsman(Human):\n",
    "    def runs(self):\n",
    "        print('Runs Scored')\n",
    "dhoni = Batsman()\n",
    "dhoni.name()\n",
    "dhoni.age()\n",
    "dhoni.runs()"
   ]
  },
  {
   "cell_type": "code",
   "execution_count": null,
   "id": "668bd261-fd30-4423-ba9c-198653320b10",
   "metadata": {},
   "outputs": [],
   "source": []
  }
 ],
 "metadata": {
  "kernelspec": {
   "display_name": "Python 3 (ipykernel)",
   "language": "python",
   "name": "python3"
  },
  "language_info": {
   "codemirror_mode": {
    "name": "ipython",
    "version": 3
   },
   "file_extension": ".py",
   "mimetype": "text/x-python",
   "name": "python",
   "nbconvert_exporter": "python",
   "pygments_lexer": "ipython3",
   "version": "3.12.5"
  }
 },
 "nbformat": 4,
 "nbformat_minor": 5
}
